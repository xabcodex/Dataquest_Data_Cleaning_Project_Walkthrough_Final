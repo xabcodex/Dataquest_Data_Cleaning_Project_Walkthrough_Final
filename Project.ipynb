{
 "cells": [
  {
   "cell_type": "markdown",
   "metadata": {},
   "source": [
    "Welcome to this guided project! Guided projects help you synthesize the concepts you learned in the Dataquest missions and start building a portfolio. Guided projects provide an in-browser coding experience, along with help and hints. Guided projects bridge the gap between learning through the Dataquest missions, and applying what you've learned on your own computer.\n",
    "\n",
    "Guided projects help you develop the key skills you'll need to perform data science work in the \"real world.\" Doing well on these projects is a bit different from doing well on the missions, where there's a \"right\" answer. In the guided projects, you'll need to create solutions on your own (although we'll be there to help you along the way).\n",
    "\n",
    "In this project, you'll be working with Jupyter notebook and analyzing data on the Star Wars movies. When you're finished, you'll have a notebook you can either add to your portfolio, or expand on your own.\n",
    "\n",
    "[Google](https://www.google.com), [StackOverflow](https://stackoverflow.com), and the documentation for various packages will help you as you progress through this project. All data scientists make extensive use of resources like these as they write code.\n",
    "\n",
    "We'd love to hear your feedback as you go through this project. We hope it's a great experience!"
   ]
  }
 ],
 "metadata": {
  "kernelspec": {
   "display_name": "Python 3",
   "language": "python",
   "name": "python3"
  },
  "language_info": {
   "codemirror_mode": {
    "name": "ipython",
    "version": 3
   },
   "file_extension": ".py",
   "mimetype": "text/x-python",
   "name": "python",
   "nbconvert_exporter": "python",
   "pygments_lexer": "ipython3",
   "version": "3.7.1"
  }
 },
 "nbformat": 4,
 "nbformat_minor": 2
}
